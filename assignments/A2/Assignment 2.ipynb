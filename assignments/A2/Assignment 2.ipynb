{
 "cells": [
  {
   "cell_type": "code",
   "execution_count": 2,
   "id": "ef76ba46-5e4f-487b-9641-470f798c93bc",
   "metadata": {},
   "outputs": [],
   "source": [
    "import networkx as nx\n",
    "import pandas as pd\n",
    "import matplotlib.pyplot as plt\n",
    "import numpy as np \n",
    "import math"
   ]
  },
  {
   "cell_type": "markdown",
   "id": "d5130d69-6d00-47b4-a77f-3033bbc4b4ad",
   "metadata": {},
   "source": [
    "### Question 2:\n",
    "Use of Ant Colony Optimization for the Traveling Salesman Problem. "
   ]
  },
  {
   "cell_type": "code",
   "execution_count": 3,
   "id": "748862a5-efc6-43d7-b7cd-3f086947b8f8",
   "metadata": {},
   "outputs": [
    {
     "name": "stdout",
     "output_type": "stream",
     "text": [
      "Number of Nodes: 52\n",
      "Number of Edges: 2652\n"
     ]
    }
   ],
   "source": [
    "G1 = nx.read_gml('berlin52.gml')\n",
    "print(f\"Number of Nodes: {G1.number_of_nodes()}\")\n",
    "print(f\"Number of Edges: {G1.number_of_edges()}\")"
   ]
  },
  {
   "cell_type": "code",
   "execution_count": 4,
   "id": "1b71f29e-0c8f-4667-8741-623e7b9dbf05",
   "metadata": {},
   "outputs": [],
   "source": [
    "g1 = nx.DiGraph()\n",
    "\n",
    "for u, v, data in G1.edges(data=True):\n",
    "    weight = data['cost']  # Assuming 'distance' is the attribute used for weighting\n",
    "    g1.add_edge(u, v, weight=weight)"
   ]
  },
  {
   "cell_type": "code",
   "execution_count": 5,
   "id": "b66df9c7-d470-44e6-a560-d9031522ceb2",
   "metadata": {},
   "outputs": [
    {
     "name": "stdout",
     "output_type": "stream",
     "text": [
      "Number of Nodes: 58\n",
      "Number of Edges: 3306\n"
     ]
    }
   ],
   "source": [
    "G2 = nx.read_gml('brazil58.gml')\n",
    "print(f\"Number of Nodes: {G2.number_of_nodes()}\")\n",
    "print(f\"Number of Edges: {G2.number_of_edges()}\")"
   ]
  },
  {
   "cell_type": "code",
   "execution_count": 6,
   "id": "fd962353-961a-4475-b2dc-7116eb9aec2c",
   "metadata": {},
   "outputs": [
    {
     "data": {
      "text/plain": [
       "True"
      ]
     },
     "execution_count": 6,
     "metadata": {},
     "output_type": "execute_result"
    }
   ],
   "source": [
    "G2.is_directed()"
   ]
  },
  {
   "cell_type": "code",
   "execution_count": 7,
   "id": "2284a558-2b6f-4a6b-a1f8-3fa4e15e32a0",
   "metadata": {},
   "outputs": [
    {
     "data": {
      "text/plain": [
       "False"
      ]
     },
     "execution_count": 7,
     "metadata": {},
     "output_type": "execute_result"
    }
   ],
   "source": [
    "G2.is_multigraph()"
   ]
  },
  {
   "cell_type": "code",
   "execution_count": 8,
   "id": "bbddbd90-19e0-494f-bc2a-523911c16f9b",
   "metadata": {},
   "outputs": [
    {
     "name": "stdout",
     "output_type": "stream",
     "text": [
      "Number of Nodes: 58\n",
      "Number of Edges: 3306\n"
     ]
    }
   ],
   "source": [
    "g2 = nx.DiGraph()\n",
    "\n",
    "for u, v, data in G2.edges(data=True):\n",
    "    weight = data['cost']  # Assuming 'distance' is the attribute used for weighting\n",
    "    g2.add_edge(u, v, weight=weight)\n",
    "\n",
    "print(f\"Number of Nodes: {g2.number_of_nodes()}\")\n",
    "print(f\"Number of Edges: {g2.number_of_edges()}\")"
   ]
  },
  {
   "cell_type": "code",
   "execution_count": 9,
   "id": "70ea2c78-876a-4eb1-b652-56d90edb8065",
   "metadata": {},
   "outputs": [
    {
     "name": "stdout",
     "output_type": "stream",
     "text": [
      "Number of Nodes: 180\n",
      "Number of Edges: 32220\n"
     ]
    }
   ],
   "source": [
    "G3 = nx.read_gml('brg180.gml')\n",
    "print(f\"Number of Nodes: {G3.number_of_nodes()}\")\n",
    "print(f\"Number of Edges: {G3.number_of_edges()}\")"
   ]
  },
  {
   "cell_type": "code",
   "execution_count": 10,
   "id": "46765bc9-46f0-411e-8b51-b1dfb89df362",
   "metadata": {},
   "outputs": [],
   "source": [
    "g3 = nx.DiGraph()\n",
    "\n",
    "for u, v, data in G3.edges(data=True):\n",
    "    weight = data['cost']  # Assuming 'distance' is the attribute used for weighting\n",
    "    g3.add_edge(u, v, weight=weight)"
   ]
  },
  {
   "cell_type": "code",
   "execution_count": 11,
   "id": "58f464c4-dba6-4d8b-886d-90c46e2733c9",
   "metadata": {},
   "outputs": [
    {
     "name": "stdout",
     "output_type": "stream",
     "text": [
      "Number of Nodes: 229\n",
      "Number of Edges: 52212\n"
     ]
    }
   ],
   "source": [
    "G4 = nx.read_gml('gr229.gml')\n",
    "print(f\"Number of Nodes: {G4.number_of_nodes()}\")\n",
    "print(f\"Number of Edges: {G4.number_of_edges()}\")"
   ]
  },
  {
   "cell_type": "code",
   "execution_count": 12,
   "id": "8ad12a71-fec6-406d-830f-ed3a91c36da5",
   "metadata": {},
   "outputs": [
    {
     "name": "stdout",
     "output_type": "stream",
     "text": [
      "Number of Nodes: 229\n",
      "Number of Edges: 52212\n"
     ]
    }
   ],
   "source": [
    "g4 = nx.DiGraph()\n",
    "\n",
    "for u, v, data in G4.edges(data=True):\n",
    "    weight = data['cost']  # Assuming 'distance' is the attribute used for weighting\n",
    "    g4.add_edge(u, v, weight=weight)\n",
    "\n",
    "print(f\"Number of Nodes: {g4.number_of_nodes()}\")\n",
    "print(f\"Number of Edges: {g4.number_of_edges()}\")"
   ]
  },
  {
   "cell_type": "code",
   "execution_count": 13,
   "id": "41eb3f52-59c8-4992-91d6-b6dd20b875ed",
   "metadata": {},
   "outputs": [
    {
     "name": "stdout",
     "output_type": "stream",
     "text": [
      "Number of Nodes: 439\n",
      "Number of Edges: 192282\n"
     ]
    }
   ],
   "source": [
    "G5 = nx.read_gml('pr439.gml')\n",
    "print(f\"Number of Nodes: {G5.number_of_nodes()}\")\n",
    "print(f\"Number of Edges: {G5.number_of_edges()}\")"
   ]
  },
  {
   "cell_type": "code",
   "execution_count": 14,
   "id": "23f540df-45aa-4bcc-bf97-1a50f371e1b7",
   "metadata": {},
   "outputs": [],
   "source": [
    "g5 = nx.DiGraph()\n",
    "\n",
    "for u, v, data in G5.edges(data=True):\n",
    "    weight = data['cost']  # Assuming 'distance' is the attribute used for weighting\n",
    "    g5.add_edge(u, v, weight=weight)"
   ]
  },
  {
   "cell_type": "code",
   "execution_count": null,
   "id": "1f2e49fc-558f-45fc-a82e-73c38c5b7392",
   "metadata": {
    "scrolled": true
   },
   "outputs": [],
   "source": [
    "pip install acopy"
   ]
  },
  {
   "cell_type": "code",
   "execution_count": 15,
   "id": "d4a155ab-db8e-45cc-952a-0e9dad97bfb5",
   "metadata": {},
   "outputs": [],
   "source": [
    "import acopy"
   ]
  },
  {
   "cell_type": "code",
   "execution_count": 16,
   "id": "f4c34158-f499-4b7d-9b54-c475b2ac98ea",
   "metadata": {},
   "outputs": [],
   "source": [
    "solver = acopy.Solver(rho=.03, q=1)\n",
    "colony = acopy.Colony(alpha=1, beta=3)"
   ]
  },
  {
   "cell_type": "code",
   "execution_count": 17,
   "id": "2d1925ca-c5b2-46c8-91fe-96dcadd09dd0",
   "metadata": {},
   "outputs": [],
   "source": [
    "tour = solver.solve(g1, colony, limit=40, gen_size=10)\n",
    "tour.cost\n",
    "path = tour.path"
   ]
  },
  {
   "cell_type": "code",
   "execution_count": null,
   "id": "fc9298ad-eedf-4d8d-9742-07de1b500224",
   "metadata": {},
   "outputs": [],
   "source": [
    "dir(acopy.plugins)"
   ]
  },
  {
   "cell_type": "markdown",
   "id": "655bfde2-ad67-420e-a092-ab4aba073a51",
   "metadata": {},
   "source": [
    "Use the Time plugin to get the total time taken to run the algorithm on our grraph"
   ]
  },
  {
   "cell_type": "code",
   "execution_count": 18,
   "id": "edcadd87-0090-46ee-877f-9687917b6a6d",
   "metadata": {},
   "outputs": [
    {
     "name": "stdout",
     "output_type": "stream",
     "text": [
      "Total Time taken for g1 : 1.63771390914917 seconds\n"
     ]
    }
   ],
   "source": [
    "timer = acopy.plugins.Timer()\n",
    "solver.add_plugin(timer)\n",
    "best = solver.solve(g1, colony, limit=40, gen_size=10)\n",
    "t1 = timer.duration\n",
    "print(f\"Total Time taken for g1 : {t1} seconds\")"
   ]
  },
  {
   "cell_type": "code",
   "execution_count": 19,
   "id": "aa857621-da39-432d-a42f-ece754d03029",
   "metadata": {},
   "outputs": [
    {
     "name": "stdout",
     "output_type": "stream",
     "text": [
      "Total Time taken for g2 : 1.9675211906433105 seconds\n"
     ]
    }
   ],
   "source": [
    "timer = acopy.plugins.Timer()\n",
    "solver.add_plugin(timer)\n",
    "best = solver.solve(g2, colony, limit=40, gen_size=10)\n",
    "t2 = timer.duration\n",
    "print(f\"Total Time taken for g2 : {t2} seconds\")"
   ]
  },
  {
   "cell_type": "code",
   "execution_count": 20,
   "id": "ef3d4775-7074-488f-b3e8-51cac498e099",
   "metadata": {},
   "outputs": [
    {
     "name": "stdout",
     "output_type": "stream",
     "text": [
      "Total Time taken for g3 : 46.68786978721619 seconds\n"
     ]
    }
   ],
   "source": [
    "timer = acopy.plugins.Timer()\n",
    "solver.add_plugin(timer)\n",
    "best = solver.solve(g3, colony, limit=40, gen_size=10)\n",
    "t3 = timer.duration\n",
    "print(f\"Total Time taken for g3 : {t3} seconds\")"
   ]
  },
  {
   "cell_type": "code",
   "execution_count": 21,
   "id": "4296d283-bc0a-43b3-abc3-940e10dddff3",
   "metadata": {},
   "outputs": [
    {
     "name": "stdout",
     "output_type": "stream",
     "text": [
      "Total Time taken for g4 : 94.13056659698486 seconds\n"
     ]
    }
   ],
   "source": [
    "timer = acopy.plugins.Timer()\n",
    "solver.add_plugin(timer)\n",
    "best = solver.solve(g4, colony, limit=40, gen_size=10)\n",
    "t4 = timer.duration\n",
    "print(f\"Total Time taken for g4 : {t4} seconds\")"
   ]
  },
  {
   "cell_type": "code",
   "execution_count": 22,
   "id": "87448622-968f-452c-87f3-4f4802fc55e3",
   "metadata": {},
   "outputs": [
    {
     "name": "stdout",
     "output_type": "stream",
     "text": [
      "Total Time taken for g5 : 661.1976249217987 seconds\n"
     ]
    }
   ],
   "source": [
    "timer = acopy.plugins.Timer()\n",
    "solver.add_plugin(timer)\n",
    "best = solver.solve(g5, colony, limit=40, gen_size=10)\n",
    "t5 = timer.duration\n",
    "print(f\"Total Time taken for g5 : {t5} seconds\")"
   ]
  },
  {
   "cell_type": "code",
   "execution_count": 23,
   "id": "41a23da1-4d49-46a5-b90e-73bdfc9bdb1e",
   "metadata": {},
   "outputs": [
    {
     "data": {
      "image/png": "[encoded data removed]",
      "text/plain": [
       "<Figure size 640x480 with 1 Axes>"
      ]
     },
     "metadata": {},
     "output_type": "display_data"
    }
   ],
   "source": [
    "n1= g1.number_of_nodes()\n",
    "n2 = g2.number_of_nodes()\n",
    "n3 = g3.number_of_nodes()\n",
    "n4 = g4.number_of_nodes()\n",
    "n5 = g5.number_of_nodes()\n",
    "\n",
    "nodes = [n1,n2,n3,n4,n5] \n",
    "times = [t1,t2,t3,t4,t5] \n",
    "\n",
    "# fig, ax = plt.subplots(1,1,figsize=(4.5,4),dpi=125)\n",
    "\n",
    "plt.title(\"Number of Nodes Vs Time taken \", fontsize=14)\n",
    "plt.xlabel(r\"Number of Nodes\",fontsize='large')\n",
    "plt.ylabel(r\"Total Time Taken\", fontsize = 'large')\n",
    "plt.scatter(nodes, times) \n",
    "plt.savefig('Number of Nodes Vs Time taken.png',  bbox_inches='tight')\n",
    "plt.show()"
   ]
  },
  {
   "cell_type": "code",
   "execution_count": null,
   "id": "9f1bef5c-855f-4b00-b0be-be6f5a98dd3b",
   "metadata": {},
   "outputs": [],
   "source": []
  }
 ],
 "metadata": {
  "kernelspec": {
   "display_name": "Python 3 (ipykernel)",
   "language": "python",
   "name": "python3"
  },
  "language_info": {
   "codemirror_mode": {
    "name": "ipython",
    "version": 3
   },
   "file_extension": ".py",
   "mimetype": "text/x-python",
   "name": "python",
   "nbconvert_exporter": "python",
   "pygments_lexer": "ipython3",
   "version": "3.12.4"
  }
 },
 "nbformat": 4,
 "nbformat_minor": 5
}
